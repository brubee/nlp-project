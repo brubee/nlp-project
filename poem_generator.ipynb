{
  "nbformat": 4,
  "nbformat_minor": 0,
  "metadata": {
    "colab": {
      "provenance": [],
      "gpuType": "T4",
      "mount_file_id": "1CaxvYw3ED0xSfrGYxL8Sxs1dEnRko8ff",
      "authorship_tag": "ABX9TyMMVUpdfazdeFFmr2iRRd7t",
      "include_colab_link": true
    },
    "kernelspec": {
      "name": "python3",
      "display_name": "Python 3"
    },
    "language_info": {
      "name": "python"
    },
    "accelerator": "GPU"
  },
  "cells": [
    {
      "cell_type": "markdown",
      "metadata": {
        "id": "view-in-github",
        "colab_type": "text"
      },
      "source": [
        "<a href=\"https://colab.research.google.com/github/brubee/nlp-project/blob/master/poem_generator.ipynb\" target=\"_parent\"><img src=\"https://colab.research.google.com/assets/colab-badge.svg\" alt=\"Open In Colab\"/></a>"
      ]
    },
    {
      "cell_type": "markdown",
      "source": [
        "## Poem Generator"
      ],
      "metadata": {
        "id": "ArhMEgdzjY82"
      }
    },
    {
      "cell_type": "markdown",
      "source": [
        "NLP project made for Introduction to NLP class of 2024, made by yours truly (Jurás Dorka, IZZGAY)."
      ],
      "metadata": {
        "id": "RNn-uFW8jb-V"
      }
    },
    {
      "cell_type": "code",
      "source": [
        "from google.colab import drive\n",
        "drive.mount('/content/drive')"
      ],
      "metadata": {
        "id": "Mn9uXKaJiHW_",
        "colab": {
          "base_uri": "https://localhost:8080/"
        },
        "outputId": "c87b4c39-17f5-4364-bcba-db97176f2957"
      },
      "execution_count": null,
      "outputs": [
        {
          "output_type": "stream",
          "name": "stdout",
          "text": [
            "Drive already mounted at /content/drive; to attempt to forcibly remount, call drive.mount(\"/content/drive\", force_remount=True).\n"
          ]
        }
      ]
    },
    {
      "cell_type": "code",
      "source": [
        "!pip install transformers\n",
        "!pip install numpy\n",
        "!pip install pandas\n",
        "!pip install tensorflow"
      ],
      "metadata": {
        "id": "4U9KmAUS0A44"
      },
      "execution_count": null,
      "outputs": []
    },
    {
      "cell_type": "markdown",
      "source": [
        "### Imports"
      ],
      "metadata": {
        "id": "m2Hd3r-NjUcV"
      }
    },
    {
      "cell_type": "code",
      "source": [
        "import numpy as np\n",
        "import pandas as pd\n",
        "import tensorflow as tf\n",
        "from transformers import GPT2Config, TFGPT2LMHeadModel, GPT2Tokenizer\n",
        "from transformers import WEIGHTS_NAME, CONFIG_NAME\n",
        "import os"
      ],
      "metadata": {
        "id": "LEZnyD3GjWhA"
      },
      "execution_count": 2,
      "outputs": []
    },
    {
      "cell_type": "markdown",
      "source": [
        "### Data"
      ],
      "metadata": {
        "id": "I3Ps7aBKjRi6"
      }
    },
    {
      "cell_type": "markdown",
      "source": [
        "My plan was to make a poem generator, so for that I had to find a suitable dataset of poems.\n",
        "\n",
        "The dataset I ended up using was [this](https://www.kaggle.com/datasets/johnhallman/complete-poetryfoundationorg-dataset) one from Kaggle."
      ],
      "metadata": {
        "id": "fRREnzS8W3Sw"
      }
    },
    {
      "cell_type": "code",
      "source": [
        "poems_data = pd.read_csv(\"/content/drive/MyDrive/uni/kaggle_poem_dataset.csv\")\n",
        "poems_data.head(2)"
      ],
      "metadata": {
        "id": "Y4SvoR6EjNfh",
        "colab": {
          "base_uri": "https://localhost:8080/",
          "height": 112
        },
        "outputId": "6475388d-ab67-4d4e-c289-e838cc5094ac"
      },
      "execution_count": 3,
      "outputs": [
        {
          "output_type": "execute_result",
          "data": {
            "text/plain": [
              "   Unnamed: 0             Author Title  Poetry Foundation ID  \\\n",
              "0           0     Wendy Videlock     !                 55489   \n",
              "1           1  Hailey Leithauser     0                 41729   \n",
              "\n",
              "                                             Content  \n",
              "0  Dear Writers, I’m compiling the first in what ...  \n",
              "1  Philosophic\\nin its complex, ovoid emptiness,\\...  "
            ],
            "text/html": [
              "\n",
              "  <div id=\"df-6b7dffa4-58e4-43d8-815e-e460265de02c\" class=\"colab-df-container\">\n",
              "    <div>\n",
              "<style scoped>\n",
              "    .dataframe tbody tr th:only-of-type {\n",
              "        vertical-align: middle;\n",
              "    }\n",
              "\n",
              "    .dataframe tbody tr th {\n",
              "        vertical-align: top;\n",
              "    }\n",
              "\n",
              "    .dataframe thead th {\n",
              "        text-align: right;\n",
              "    }\n",
              "</style>\n",
              "<table border=\"1\" class=\"dataframe\">\n",
              "  <thead>\n",
              "    <tr style=\"text-align: right;\">\n",
              "      <th></th>\n",
              "      <th>Unnamed: 0</th>\n",
              "      <th>Author</th>\n",
              "      <th>Title</th>\n",
              "      <th>Poetry Foundation ID</th>\n",
              "      <th>Content</th>\n",
              "    </tr>\n",
              "  </thead>\n",
              "  <tbody>\n",
              "    <tr>\n",
              "      <th>0</th>\n",
              "      <td>0</td>\n",
              "      <td>Wendy Videlock</td>\n",
              "      <td>!</td>\n",
              "      <td>55489</td>\n",
              "      <td>Dear Writers, I’m compiling the first in what ...</td>\n",
              "    </tr>\n",
              "    <tr>\n",
              "      <th>1</th>\n",
              "      <td>1</td>\n",
              "      <td>Hailey Leithauser</td>\n",
              "      <td>0</td>\n",
              "      <td>41729</td>\n",
              "      <td>Philosophic\\nin its complex, ovoid emptiness,\\...</td>\n",
              "    </tr>\n",
              "  </tbody>\n",
              "</table>\n",
              "</div>\n",
              "    <div class=\"colab-df-buttons\">\n",
              "\n",
              "  <div class=\"colab-df-container\">\n",
              "    <button class=\"colab-df-convert\" onclick=\"convertToInteractive('df-6b7dffa4-58e4-43d8-815e-e460265de02c')\"\n",
              "            title=\"Convert this dataframe to an interactive table.\"\n",
              "            style=\"display:none;\">\n",
              "\n",
              "  <svg xmlns=\"http://www.w3.org/2000/svg\" height=\"24px\" viewBox=\"0 -960 960 960\">\n",
              "    <path d=\"M120-120v-720h720v720H120Zm60-500h600v-160H180v160Zm220 220h160v-160H400v160Zm0 220h160v-160H400v160ZM180-400h160v-160H180v160Zm440 0h160v-160H620v160ZM180-180h160v-160H180v160Zm440 0h160v-160H620v160Z\"/>\n",
              "  </svg>\n",
              "    </button>\n",
              "\n",
              "  <style>\n",
              "    .colab-df-container {\n",
              "      display:flex;\n",
              "      gap: 12px;\n",
              "    }\n",
              "\n",
              "    .colab-df-convert {\n",
              "      background-color: #E8F0FE;\n",
              "      border: none;\n",
              "      border-radius: 50%;\n",
              "      cursor: pointer;\n",
              "      display: none;\n",
              "      fill: #1967D2;\n",
              "      height: 32px;\n",
              "      padding: 0 0 0 0;\n",
              "      width: 32px;\n",
              "    }\n",
              "\n",
              "    .colab-df-convert:hover {\n",
              "      background-color: #E2EBFA;\n",
              "      box-shadow: 0px 1px 2px rgba(60, 64, 67, 0.3), 0px 1px 3px 1px rgba(60, 64, 67, 0.15);\n",
              "      fill: #174EA6;\n",
              "    }\n",
              "\n",
              "    .colab-df-buttons div {\n",
              "      margin-bottom: 4px;\n",
              "    }\n",
              "\n",
              "    [theme=dark] .colab-df-convert {\n",
              "      background-color: #3B4455;\n",
              "      fill: #D2E3FC;\n",
              "    }\n",
              "\n",
              "    [theme=dark] .colab-df-convert:hover {\n",
              "      background-color: #434B5C;\n",
              "      box-shadow: 0px 1px 3px 1px rgba(0, 0, 0, 0.15);\n",
              "      filter: drop-shadow(0px 1px 2px rgba(0, 0, 0, 0.3));\n",
              "      fill: #FFFFFF;\n",
              "    }\n",
              "  </style>\n",
              "\n",
              "    <script>\n",
              "      const buttonEl =\n",
              "        document.querySelector('#df-6b7dffa4-58e4-43d8-815e-e460265de02c button.colab-df-convert');\n",
              "      buttonEl.style.display =\n",
              "        google.colab.kernel.accessAllowed ? 'block' : 'none';\n",
              "\n",
              "      async function convertToInteractive(key) {\n",
              "        const element = document.querySelector('#df-6b7dffa4-58e4-43d8-815e-e460265de02c');\n",
              "        const dataTable =\n",
              "          await google.colab.kernel.invokeFunction('convertToInteractive',\n",
              "                                                    [key], {});\n",
              "        if (!dataTable) return;\n",
              "\n",
              "        const docLinkHtml = 'Like what you see? Visit the ' +\n",
              "          '<a target=\"_blank\" href=https://colab.research.google.com/notebooks/data_table.ipynb>data table notebook</a>'\n",
              "          + ' to learn more about interactive tables.';\n",
              "        element.innerHTML = '';\n",
              "        dataTable['output_type'] = 'display_data';\n",
              "        await google.colab.output.renderOutput(dataTable, element);\n",
              "        const docLink = document.createElement('div');\n",
              "        docLink.innerHTML = docLinkHtml;\n",
              "        element.appendChild(docLink);\n",
              "      }\n",
              "    </script>\n",
              "  </div>\n",
              "\n",
              "\n",
              "<div id=\"df-3b1a7320-4791-4def-81d9-4ffb5a98dc1d\">\n",
              "  <button class=\"colab-df-quickchart\" onclick=\"quickchart('df-3b1a7320-4791-4def-81d9-4ffb5a98dc1d')\"\n",
              "            title=\"Suggest charts\"\n",
              "            style=\"display:none;\">\n",
              "\n",
              "<svg xmlns=\"http://www.w3.org/2000/svg\" height=\"24px\"viewBox=\"0 0 24 24\"\n",
              "     width=\"24px\">\n",
              "    <g>\n",
              "        <path d=\"M19 3H5c-1.1 0-2 .9-2 2v14c0 1.1.9 2 2 2h14c1.1 0 2-.9 2-2V5c0-1.1-.9-2-2-2zM9 17H7v-7h2v7zm4 0h-2V7h2v10zm4 0h-2v-4h2v4z\"/>\n",
              "    </g>\n",
              "</svg>\n",
              "  </button>\n",
              "\n",
              "<style>\n",
              "  .colab-df-quickchart {\n",
              "      --bg-color: #E8F0FE;\n",
              "      --fill-color: #1967D2;\n",
              "      --hover-bg-color: #E2EBFA;\n",
              "      --hover-fill-color: #174EA6;\n",
              "      --disabled-fill-color: #AAA;\n",
              "      --disabled-bg-color: #DDD;\n",
              "  }\n",
              "\n",
              "  [theme=dark] .colab-df-quickchart {\n",
              "      --bg-color: #3B4455;\n",
              "      --fill-color: #D2E3FC;\n",
              "      --hover-bg-color: #434B5C;\n",
              "      --hover-fill-color: #FFFFFF;\n",
              "      --disabled-bg-color: #3B4455;\n",
              "      --disabled-fill-color: #666;\n",
              "  }\n",
              "\n",
              "  .colab-df-quickchart {\n",
              "    background-color: var(--bg-color);\n",
              "    border: none;\n",
              "    border-radius: 50%;\n",
              "    cursor: pointer;\n",
              "    display: none;\n",
              "    fill: var(--fill-color);\n",
              "    height: 32px;\n",
              "    padding: 0;\n",
              "    width: 32px;\n",
              "  }\n",
              "\n",
              "  .colab-df-quickchart:hover {\n",
              "    background-color: var(--hover-bg-color);\n",
              "    box-shadow: 0 1px 2px rgba(60, 64, 67, 0.3), 0 1px 3px 1px rgba(60, 64, 67, 0.15);\n",
              "    fill: var(--button-hover-fill-color);\n",
              "  }\n",
              "\n",
              "  .colab-df-quickchart-complete:disabled,\n",
              "  .colab-df-quickchart-complete:disabled:hover {\n",
              "    background-color: var(--disabled-bg-color);\n",
              "    fill: var(--disabled-fill-color);\n",
              "    box-shadow: none;\n",
              "  }\n",
              "\n",
              "  .colab-df-spinner {\n",
              "    border: 2px solid var(--fill-color);\n",
              "    border-color: transparent;\n",
              "    border-bottom-color: var(--fill-color);\n",
              "    animation:\n",
              "      spin 1s steps(1) infinite;\n",
              "  }\n",
              "\n",
              "  @keyframes spin {\n",
              "    0% {\n",
              "      border-color: transparent;\n",
              "      border-bottom-color: var(--fill-color);\n",
              "      border-left-color: var(--fill-color);\n",
              "    }\n",
              "    20% {\n",
              "      border-color: transparent;\n",
              "      border-left-color: var(--fill-color);\n",
              "      border-top-color: var(--fill-color);\n",
              "    }\n",
              "    30% {\n",
              "      border-color: transparent;\n",
              "      border-left-color: var(--fill-color);\n",
              "      border-top-color: var(--fill-color);\n",
              "      border-right-color: var(--fill-color);\n",
              "    }\n",
              "    40% {\n",
              "      border-color: transparent;\n",
              "      border-right-color: var(--fill-color);\n",
              "      border-top-color: var(--fill-color);\n",
              "    }\n",
              "    60% {\n",
              "      border-color: transparent;\n",
              "      border-right-color: var(--fill-color);\n",
              "    }\n",
              "    80% {\n",
              "      border-color: transparent;\n",
              "      border-right-color: var(--fill-color);\n",
              "      border-bottom-color: var(--fill-color);\n",
              "    }\n",
              "    90% {\n",
              "      border-color: transparent;\n",
              "      border-bottom-color: var(--fill-color);\n",
              "    }\n",
              "  }\n",
              "</style>\n",
              "\n",
              "  <script>\n",
              "    async function quickchart(key) {\n",
              "      const quickchartButtonEl =\n",
              "        document.querySelector('#' + key + ' button');\n",
              "      quickchartButtonEl.disabled = true;  // To prevent multiple clicks.\n",
              "      quickchartButtonEl.classList.add('colab-df-spinner');\n",
              "      try {\n",
              "        const charts = await google.colab.kernel.invokeFunction(\n",
              "            'suggestCharts', [key], {});\n",
              "      } catch (error) {\n",
              "        console.error('Error during call to suggestCharts:', error);\n",
              "      }\n",
              "      quickchartButtonEl.classList.remove('colab-df-spinner');\n",
              "      quickchartButtonEl.classList.add('colab-df-quickchart-complete');\n",
              "    }\n",
              "    (() => {\n",
              "      let quickchartButtonEl =\n",
              "        document.querySelector('#df-3b1a7320-4791-4def-81d9-4ffb5a98dc1d button');\n",
              "      quickchartButtonEl.style.display =\n",
              "        google.colab.kernel.accessAllowed ? 'block' : 'none';\n",
              "    })();\n",
              "  </script>\n",
              "</div>\n",
              "    </div>\n",
              "  </div>\n"
            ]
          },
          "metadata": {},
          "execution_count": 3
        }
      ]
    },
    {
      "cell_type": "markdown",
      "source": [
        "Then I grouped the authors to see who had the most poems in the dataset. Seeing as it was William Shakespeare, who I was somewhat familiar with, I decided to use his poems for this project."
      ],
      "metadata": {
        "id": "aT_SYRrGX0GB"
      }
    },
    {
      "cell_type": "code",
      "source": [
        "poems_data.groupby(\"Author\").agg({\"Content\": \"count\"}).sort_values(\"Content\", ascending=False).head(5)"
      ],
      "metadata": {
        "colab": {
          "base_uri": "https://localhost:8080/",
          "height": 237
        },
        "id": "xlTSv83d06Yw",
        "outputId": "08210976-97dd-48a6-ffc3-49a32b3ae977"
      },
      "execution_count": 4,
      "outputs": [
        {
          "output_type": "execute_result",
          "data": {
            "text/plain": [
              "                       Content\n",
              "Author                        \n",
              "William Shakespeare         85\n",
              "Anonymous                   82\n",
              "Alfred, Lord Tennyson       78\n",
              "Rae Armantrout              62\n",
              "William Wordsworth          59"
            ],
            "text/html": [
              "\n",
              "  <div id=\"df-9b22dcbf-9580-40f2-8797-d098d3e40e7b\" class=\"colab-df-container\">\n",
              "    <div>\n",
              "<style scoped>\n",
              "    .dataframe tbody tr th:only-of-type {\n",
              "        vertical-align: middle;\n",
              "    }\n",
              "\n",
              "    .dataframe tbody tr th {\n",
              "        vertical-align: top;\n",
              "    }\n",
              "\n",
              "    .dataframe thead th {\n",
              "        text-align: right;\n",
              "    }\n",
              "</style>\n",
              "<table border=\"1\" class=\"dataframe\">\n",
              "  <thead>\n",
              "    <tr style=\"text-align: right;\">\n",
              "      <th></th>\n",
              "      <th>Content</th>\n",
              "    </tr>\n",
              "    <tr>\n",
              "      <th>Author</th>\n",
              "      <th></th>\n",
              "    </tr>\n",
              "  </thead>\n",
              "  <tbody>\n",
              "    <tr>\n",
              "      <th>William Shakespeare</th>\n",
              "      <td>85</td>\n",
              "    </tr>\n",
              "    <tr>\n",
              "      <th>Anonymous</th>\n",
              "      <td>82</td>\n",
              "    </tr>\n",
              "    <tr>\n",
              "      <th>Alfred, Lord Tennyson</th>\n",
              "      <td>78</td>\n",
              "    </tr>\n",
              "    <tr>\n",
              "      <th>Rae Armantrout</th>\n",
              "      <td>62</td>\n",
              "    </tr>\n",
              "    <tr>\n",
              "      <th>William Wordsworth</th>\n",
              "      <td>59</td>\n",
              "    </tr>\n",
              "  </tbody>\n",
              "</table>\n",
              "</div>\n",
              "    <div class=\"colab-df-buttons\">\n",
              "\n",
              "  <div class=\"colab-df-container\">\n",
              "    <button class=\"colab-df-convert\" onclick=\"convertToInteractive('df-9b22dcbf-9580-40f2-8797-d098d3e40e7b')\"\n",
              "            title=\"Convert this dataframe to an interactive table.\"\n",
              "            style=\"display:none;\">\n",
              "\n",
              "  <svg xmlns=\"http://www.w3.org/2000/svg\" height=\"24px\" viewBox=\"0 -960 960 960\">\n",
              "    <path d=\"M120-120v-720h720v720H120Zm60-500h600v-160H180v160Zm220 220h160v-160H400v160Zm0 220h160v-160H400v160ZM180-400h160v-160H180v160Zm440 0h160v-160H620v160ZM180-180h160v-160H180v160Zm440 0h160v-160H620v160Z\"/>\n",
              "  </svg>\n",
              "    </button>\n",
              "\n",
              "  <style>\n",
              "    .colab-df-container {\n",
              "      display:flex;\n",
              "      gap: 12px;\n",
              "    }\n",
              "\n",
              "    .colab-df-convert {\n",
              "      background-color: #E8F0FE;\n",
              "      border: none;\n",
              "      border-radius: 50%;\n",
              "      cursor: pointer;\n",
              "      display: none;\n",
              "      fill: #1967D2;\n",
              "      height: 32px;\n",
              "      padding: 0 0 0 0;\n",
              "      width: 32px;\n",
              "    }\n",
              "\n",
              "    .colab-df-convert:hover {\n",
              "      background-color: #E2EBFA;\n",
              "      box-shadow: 0px 1px 2px rgba(60, 64, 67, 0.3), 0px 1px 3px 1px rgba(60, 64, 67, 0.15);\n",
              "      fill: #174EA6;\n",
              "    }\n",
              "\n",
              "    .colab-df-buttons div {\n",
              "      margin-bottom: 4px;\n",
              "    }\n",
              "\n",
              "    [theme=dark] .colab-df-convert {\n",
              "      background-color: #3B4455;\n",
              "      fill: #D2E3FC;\n",
              "    }\n",
              "\n",
              "    [theme=dark] .colab-df-convert:hover {\n",
              "      background-color: #434B5C;\n",
              "      box-shadow: 0px 1px 3px 1px rgba(0, 0, 0, 0.15);\n",
              "      filter: drop-shadow(0px 1px 2px rgba(0, 0, 0, 0.3));\n",
              "      fill: #FFFFFF;\n",
              "    }\n",
              "  </style>\n",
              "\n",
              "    <script>\n",
              "      const buttonEl =\n",
              "        document.querySelector('#df-9b22dcbf-9580-40f2-8797-d098d3e40e7b button.colab-df-convert');\n",
              "      buttonEl.style.display =\n",
              "        google.colab.kernel.accessAllowed ? 'block' : 'none';\n",
              "\n",
              "      async function convertToInteractive(key) {\n",
              "        const element = document.querySelector('#df-9b22dcbf-9580-40f2-8797-d098d3e40e7b');\n",
              "        const dataTable =\n",
              "          await google.colab.kernel.invokeFunction('convertToInteractive',\n",
              "                                                    [key], {});\n",
              "        if (!dataTable) return;\n",
              "\n",
              "        const docLinkHtml = 'Like what you see? Visit the ' +\n",
              "          '<a target=\"_blank\" href=https://colab.research.google.com/notebooks/data_table.ipynb>data table notebook</a>'\n",
              "          + ' to learn more about interactive tables.';\n",
              "        element.innerHTML = '';\n",
              "        dataTable['output_type'] = 'display_data';\n",
              "        await google.colab.output.renderOutput(dataTable, element);\n",
              "        const docLink = document.createElement('div');\n",
              "        docLink.innerHTML = docLinkHtml;\n",
              "        element.appendChild(docLink);\n",
              "      }\n",
              "    </script>\n",
              "  </div>\n",
              "\n",
              "\n",
              "<div id=\"df-67725f49-e667-4e22-8eef-d4b15f8b0883\">\n",
              "  <button class=\"colab-df-quickchart\" onclick=\"quickchart('df-67725f49-e667-4e22-8eef-d4b15f8b0883')\"\n",
              "            title=\"Suggest charts\"\n",
              "            style=\"display:none;\">\n",
              "\n",
              "<svg xmlns=\"http://www.w3.org/2000/svg\" height=\"24px\"viewBox=\"0 0 24 24\"\n",
              "     width=\"24px\">\n",
              "    <g>\n",
              "        <path d=\"M19 3H5c-1.1 0-2 .9-2 2v14c0 1.1.9 2 2 2h14c1.1 0 2-.9 2-2V5c0-1.1-.9-2-2-2zM9 17H7v-7h2v7zm4 0h-2V7h2v10zm4 0h-2v-4h2v4z\"/>\n",
              "    </g>\n",
              "</svg>\n",
              "  </button>\n",
              "\n",
              "<style>\n",
              "  .colab-df-quickchart {\n",
              "      --bg-color: #E8F0FE;\n",
              "      --fill-color: #1967D2;\n",
              "      --hover-bg-color: #E2EBFA;\n",
              "      --hover-fill-color: #174EA6;\n",
              "      --disabled-fill-color: #AAA;\n",
              "      --disabled-bg-color: #DDD;\n",
              "  }\n",
              "\n",
              "  [theme=dark] .colab-df-quickchart {\n",
              "      --bg-color: #3B4455;\n",
              "      --fill-color: #D2E3FC;\n",
              "      --hover-bg-color: #434B5C;\n",
              "      --hover-fill-color: #FFFFFF;\n",
              "      --disabled-bg-color: #3B4455;\n",
              "      --disabled-fill-color: #666;\n",
              "  }\n",
              "\n",
              "  .colab-df-quickchart {\n",
              "    background-color: var(--bg-color);\n",
              "    border: none;\n",
              "    border-radius: 50%;\n",
              "    cursor: pointer;\n",
              "    display: none;\n",
              "    fill: var(--fill-color);\n",
              "    height: 32px;\n",
              "    padding: 0;\n",
              "    width: 32px;\n",
              "  }\n",
              "\n",
              "  .colab-df-quickchart:hover {\n",
              "    background-color: var(--hover-bg-color);\n",
              "    box-shadow: 0 1px 2px rgba(60, 64, 67, 0.3), 0 1px 3px 1px rgba(60, 64, 67, 0.15);\n",
              "    fill: var(--button-hover-fill-color);\n",
              "  }\n",
              "\n",
              "  .colab-df-quickchart-complete:disabled,\n",
              "  .colab-df-quickchart-complete:disabled:hover {\n",
              "    background-color: var(--disabled-bg-color);\n",
              "    fill: var(--disabled-fill-color);\n",
              "    box-shadow: none;\n",
              "  }\n",
              "\n",
              "  .colab-df-spinner {\n",
              "    border: 2px solid var(--fill-color);\n",
              "    border-color: transparent;\n",
              "    border-bottom-color: var(--fill-color);\n",
              "    animation:\n",
              "      spin 1s steps(1) infinite;\n",
              "  }\n",
              "\n",
              "  @keyframes spin {\n",
              "    0% {\n",
              "      border-color: transparent;\n",
              "      border-bottom-color: var(--fill-color);\n",
              "      border-left-color: var(--fill-color);\n",
              "    }\n",
              "    20% {\n",
              "      border-color: transparent;\n",
              "      border-left-color: var(--fill-color);\n",
              "      border-top-color: var(--fill-color);\n",
              "    }\n",
              "    30% {\n",
              "      border-color: transparent;\n",
              "      border-left-color: var(--fill-color);\n",
              "      border-top-color: var(--fill-color);\n",
              "      border-right-color: var(--fill-color);\n",
              "    }\n",
              "    40% {\n",
              "      border-color: transparent;\n",
              "      border-right-color: var(--fill-color);\n",
              "      border-top-color: var(--fill-color);\n",
              "    }\n",
              "    60% {\n",
              "      border-color: transparent;\n",
              "      border-right-color: var(--fill-color);\n",
              "    }\n",
              "    80% {\n",
              "      border-color: transparent;\n",
              "      border-right-color: var(--fill-color);\n",
              "      border-bottom-color: var(--fill-color);\n",
              "    }\n",
              "    90% {\n",
              "      border-color: transparent;\n",
              "      border-bottom-color: var(--fill-color);\n",
              "    }\n",
              "  }\n",
              "</style>\n",
              "\n",
              "  <script>\n",
              "    async function quickchart(key) {\n",
              "      const quickchartButtonEl =\n",
              "        document.querySelector('#' + key + ' button');\n",
              "      quickchartButtonEl.disabled = true;  // To prevent multiple clicks.\n",
              "      quickchartButtonEl.classList.add('colab-df-spinner');\n",
              "      try {\n",
              "        const charts = await google.colab.kernel.invokeFunction(\n",
              "            'suggestCharts', [key], {});\n",
              "      } catch (error) {\n",
              "        console.error('Error during call to suggestCharts:', error);\n",
              "      }\n",
              "      quickchartButtonEl.classList.remove('colab-df-spinner');\n",
              "      quickchartButtonEl.classList.add('colab-df-quickchart-complete');\n",
              "    }\n",
              "    (() => {\n",
              "      let quickchartButtonEl =\n",
              "        document.querySelector('#df-67725f49-e667-4e22-8eef-d4b15f8b0883 button');\n",
              "      quickchartButtonEl.style.display =\n",
              "        google.colab.kernel.accessAllowed ? 'block' : 'none';\n",
              "    })();\n",
              "  </script>\n",
              "</div>\n",
              "    </div>\n",
              "  </div>\n"
            ]
          },
          "metadata": {},
          "execution_count": 4
        }
      ]
    },
    {
      "cell_type": "markdown",
      "source": [
        "Here I filter for only Shakespeare's works, and set my training data to be only his poems without needless columns."
      ],
      "metadata": {
        "id": "MjfFDvnuYFpw"
      }
    },
    {
      "cell_type": "code",
      "source": [
        "shakespeare_poems = poems_data[poems_data[\"Author\"] == \"William Shakespeare\"]\n",
        "shakespeare_poems = shakespeare_poems.dropna()\n",
        "shakespeare_poems = shakespeare_poems[\"Content\"].str.lower()"
      ],
      "metadata": {
        "id": "KGdcxHOe1Bgt"
      },
      "execution_count": 5,
      "outputs": []
    },
    {
      "cell_type": "markdown",
      "source": [
        "Then I save the filtered data into a txt file."
      ],
      "metadata": {
        "id": "9rstfMovYUs2"
      }
    },
    {
      "cell_type": "code",
      "source": [
        "string = ''\n",
        "for x in shakespeare_poems:\n",
        "    string += x + \"</s>\""
      ],
      "metadata": {
        "id": "ZkGp-vKP5V2u"
      },
      "execution_count": 6,
      "outputs": []
    },
    {
      "cell_type": "code",
      "source": [
        "data_location = \"data\"\n",
        "if not os.path.exists(data_location):\n",
        "    os.makedirs(data_location)"
      ],
      "metadata": {
        "id": "kwv7YyiG5ZlU"
      },
      "execution_count": 7,
      "outputs": []
    },
    {
      "cell_type": "code",
      "source": [
        "with open('./data/poetry.txt', 'w', encoding='utf-8') as f:\n",
        "    f.write(string)"
      ],
      "metadata": {
        "id": "o5WA7QGr5dod"
      },
      "execution_count": 8,
      "outputs": []
    },
    {
      "cell_type": "markdown",
      "source": [
        "### Load Tokenizer and Model"
      ],
      "metadata": {
        "id": "NYjgWMTJ5hnt"
      }
    },
    {
      "cell_type": "code",
      "source": [
        "tokenizer = GPT2Tokenizer.from_pretrained(\"gpt2\")"
      ],
      "metadata": {
        "id": "XUz2RW8l5jpg"
      },
      "execution_count": 21,
      "outputs": []
    },
    {
      "cell_type": "code",
      "source": [
        "configuration = GPT2Config(\n",
        "    vocab_size=tokenizer.vocab_size,\n",
        "    bos_token_id=tokenizer.bos_token_id,\n",
        "    eos_token_id=tokenizer.eos_token_id\n",
        ")\n",
        "model = TFGPT2LMHeadModel(configuration)"
      ],
      "metadata": {
        "id": "TgUyKAod5rsC"
      },
      "execution_count": 22,
      "outputs": []
    },
    {
      "cell_type": "markdown",
      "source": [
        "### Load the Dataset"
      ],
      "metadata": {
        "id": "6N2HdafI5xCv"
      }
    },
    {
      "cell_type": "code",
      "source": [
        "textfile = open(\"./data/poetry.txt\", \"r\", encoding='utf-8')\n",
        "text = textfile.read()\n",
        "textfile.close()"
      ],
      "metadata": {
        "id": "DoOEb71Q5wZe"
      },
      "execution_count": 23,
      "outputs": []
    },
    {
      "cell_type": "markdown",
      "source": [
        "### Tokenize the Data"
      ],
      "metadata": {
        "id": "oysniM4r52x-"
      }
    },
    {
      "cell_type": "code",
      "source": [
        "string_tokenized = tokenizer.encode(text)\n",
        "print(\"Done tokenizing\")"
      ],
      "metadata": {
        "colab": {
          "base_uri": "https://localhost:8080/"
        },
        "id": "RdOKH64g54ih",
        "outputId": "5265a121-f280-4856-faa1-c1fecae6e38a"
      },
      "execution_count": 24,
      "outputs": [
        {
          "output_type": "stream",
          "name": "stderr",
          "text": [
            "Token indices sequence length is longer than the specified maximum sequence length for this model (32802 > 1024). Running this sequence through the model will result in indexing errors\n"
          ]
        },
        {
          "output_type": "stream",
          "name": "stdout",
          "text": [
            "Done tokenizing\n"
          ]
        }
      ]
    },
    {
      "cell_type": "markdown",
      "source": [
        "### Create the dataset"
      ],
      "metadata": {
        "id": "Pk8IbQt-5__S"
      }
    },
    {
      "cell_type": "code",
      "source": [
        "examples = []\n",
        "block_size = 100\n",
        "BATCH_SIZE = 12\n",
        "BUFFER_SIZE = 1000\n",
        "for i in range(0, len(string_tokenized) - block_size + 1, block_size):\n",
        "    examples.append(string_tokenized[i:i + block_size])\n",
        "inputs, labels = [], []"
      ],
      "metadata": {
        "id": "-cYaMRxZ5-aG"
      },
      "execution_count": 25,
      "outputs": []
    },
    {
      "cell_type": "code",
      "source": [
        "for ex in examples:\n",
        "    inputs.append(ex[:-1])\n",
        "    labels.append(ex[1:])\n",
        "dataset = tf.data.Dataset.from_tensor_slices((inputs, labels))\n",
        "dataset = dataset.shuffle(BUFFER_SIZE).batch(BATCH_SIZE, drop_remainder=True)\n",
        "print(\"Done creating dataset\")"
      ],
      "metadata": {
        "colab": {
          "base_uri": "https://localhost:8080/"
        },
        "id": "NbRP1EvY6EXT",
        "outputId": "2ad16534-a912-44c5-b5cc-01f34bb61337"
      },
      "execution_count": 26,
      "outputs": [
        {
          "output_type": "stream",
          "name": "stdout",
          "text": [
            "Done creating dataset\n"
          ]
        }
      ]
    },
    {
      "cell_type": "markdown",
      "source": [
        "### Create Model"
      ],
      "metadata": {
        "id": "raEBjuFADrtC"
      }
    },
    {
      "cell_type": "code",
      "source": [
        "optimizer = tf.keras.optimizers.Adam(\n",
        "    learning_rate=3e-5, epsilon=1e-08, clipnorm=1.0)\n",
        "loss = tf.keras.losses.SparseCategoricalCrossentropy(from_logits=True)"
      ],
      "metadata": {
        "id": "qnaQYouNDtKo"
      },
      "execution_count": 27,
      "outputs": []
    },
    {
      "cell_type": "code",
      "source": [
        "model.compile(optimizer=optimizer, loss=loss)\n",
        "model.fit(dataset, epochs=50)"
      ],
      "metadata": {
        "colab": {
          "base_uri": "https://localhost:8080/"
        },
        "id": "8OFPtvUuEMnu",
        "outputId": "d1badd6e-37ed-4091-9bfc-1bd0bda27196"
      },
      "execution_count": 28,
      "outputs": [
        {
          "output_type": "stream",
          "name": "stdout",
          "text": [
            "Epoch 1/50\n",
            "27/27 [==============================] - 44s 426ms/step - loss: 9.3771\n",
            "Epoch 2/50\n",
            "27/27 [==============================] - 12s 427ms/step - loss: 8.4381\n",
            "Epoch 3/50\n",
            "27/27 [==============================] - 11s 419ms/step - loss: 7.6112\n",
            "Epoch 4/50\n",
            "27/27 [==============================] - 11s 415ms/step - loss: 6.8917\n",
            "Epoch 5/50\n",
            "27/27 [==============================] - 11s 413ms/step - loss: 6.4048\n",
            "Epoch 6/50\n",
            "27/27 [==============================] - 11s 412ms/step - loss: 6.1236\n",
            "Epoch 7/50\n",
            "27/27 [==============================] - 11s 414ms/step - loss: 5.9396\n",
            "Epoch 8/50\n",
            "27/27 [==============================] - 11s 417ms/step - loss: 5.7901\n",
            "Epoch 9/50\n",
            "27/27 [==============================] - 11s 418ms/step - loss: 5.6635\n",
            "Epoch 10/50\n",
            "27/27 [==============================] - 11s 418ms/step - loss: 5.5377\n",
            "Epoch 11/50\n",
            "27/27 [==============================] - 11s 417ms/step - loss: 5.4092\n",
            "Epoch 12/50\n",
            "27/27 [==============================] - 11s 417ms/step - loss: 5.2880\n",
            "Epoch 13/50\n",
            "27/27 [==============================] - 11s 411ms/step - loss: 5.1625\n",
            "Epoch 14/50\n",
            "27/27 [==============================] - 11s 419ms/step - loss: 5.0460\n",
            "Epoch 15/50\n",
            "27/27 [==============================] - 11s 423ms/step - loss: 4.9391\n",
            "Epoch 16/50\n",
            "27/27 [==============================] - 11s 425ms/step - loss: 4.8329\n",
            "Epoch 17/50\n",
            "27/27 [==============================] - 11s 414ms/step - loss: 4.7206\n",
            "Epoch 18/50\n",
            "27/27 [==============================] - 11s 415ms/step - loss: 4.6204\n",
            "Epoch 19/50\n",
            "27/27 [==============================] - 11s 425ms/step - loss: 4.5193\n",
            "Epoch 20/50\n",
            "27/27 [==============================] - 12s 426ms/step - loss: 4.4223\n",
            "Epoch 21/50\n",
            "27/27 [==============================] - 11s 419ms/step - loss: 4.3258\n",
            "Epoch 22/50\n",
            "27/27 [==============================] - 11s 410ms/step - loss: 4.2362\n",
            "Epoch 23/50\n",
            "27/27 [==============================] - 11s 417ms/step - loss: 4.1409\n",
            "Epoch 24/50\n",
            "27/27 [==============================] - 11s 424ms/step - loss: 4.0514\n",
            "Epoch 25/50\n",
            "27/27 [==============================] - 11s 421ms/step - loss: 3.9680\n",
            "Epoch 26/50\n",
            "27/27 [==============================] - 11s 418ms/step - loss: 3.8768\n",
            "Epoch 27/50\n",
            "27/27 [==============================] - 11s 412ms/step - loss: 3.7929\n",
            "Epoch 28/50\n",
            "27/27 [==============================] - 11s 422ms/step - loss: 3.7046\n",
            "Epoch 29/50\n",
            "27/27 [==============================] - 11s 418ms/step - loss: 3.6267\n",
            "Epoch 30/50\n",
            "27/27 [==============================] - 11s 424ms/step - loss: 3.5460\n",
            "Epoch 31/50\n",
            "27/27 [==============================] - 11s 423ms/step - loss: 3.4587\n",
            "Epoch 32/50\n",
            "27/27 [==============================] - 11s 418ms/step - loss: 3.3838\n",
            "Epoch 33/50\n",
            "27/27 [==============================] - 11s 416ms/step - loss: 3.3059\n",
            "Epoch 34/50\n",
            "27/27 [==============================] - 11s 410ms/step - loss: 3.2272\n",
            "Epoch 35/50\n",
            "27/27 [==============================] - 11s 421ms/step - loss: 3.1564\n",
            "Epoch 36/50\n",
            "27/27 [==============================] - 11s 420ms/step - loss: 3.0787\n",
            "Epoch 37/50\n",
            "27/27 [==============================] - 11s 421ms/step - loss: 3.0097\n",
            "Epoch 38/50\n",
            "27/27 [==============================] - 11s 418ms/step - loss: 2.9425\n",
            "Epoch 39/50\n",
            "27/27 [==============================] - 11s 424ms/step - loss: 2.8765\n",
            "Epoch 40/50\n",
            "27/27 [==============================] - 11s 422ms/step - loss: 2.8032\n",
            "Epoch 41/50\n",
            "27/27 [==============================] - 11s 412ms/step - loss: 2.7319\n",
            "Epoch 42/50\n",
            "27/27 [==============================] - 11s 419ms/step - loss: 2.6706\n",
            "Epoch 43/50\n",
            "27/27 [==============================] - 11s 424ms/step - loss: 2.6035\n",
            "Epoch 44/50\n",
            "27/27 [==============================] - 11s 421ms/step - loss: 2.5473\n",
            "Epoch 45/50\n",
            "27/27 [==============================] - 11s 418ms/step - loss: 2.4764\n",
            "Epoch 46/50\n",
            "27/27 [==============================] - 11s 417ms/step - loss: 2.4151\n",
            "Epoch 47/50\n",
            "27/27 [==============================] - 11s 417ms/step - loss: 2.3441\n",
            "Epoch 48/50\n",
            "27/27 [==============================] - 11s 417ms/step - loss: 2.2890\n",
            "Epoch 49/50\n",
            "27/27 [==============================] - 11s 414ms/step - loss: 2.2253\n",
            "Epoch 50/50\n",
            "27/27 [==============================] - 11s 422ms/step - loss: 2.1720\n"
          ]
        },
        {
          "output_type": "execute_result",
          "data": {
            "text/plain": [
              "<keras.src.callbacks.History at 0x7911ee83a410>"
            ]
          },
          "metadata": {},
          "execution_count": 28
        }
      ]
    },
    {
      "cell_type": "markdown",
      "source": [
        "I have tried training with different amounts of epochs, to see the difference between them. At first I started out with only 10, but that soon turned out to be too little, and then at 20 it did look better, but the test poem at the end was still filled with nonesense. At 30 epochs, it still doesn't make sense, but it does look like a poem!\n",
        "\n",
        "I am thinking of further trying out 40 and 50 epochs, to see if I can bring the loss even lower."
      ],
      "metadata": {
        "id": "auzxxKlTZEZP"
      }
    },
    {
      "cell_type": "markdown",
      "source": [
        "After creating and training the model, I save it."
      ],
      "metadata": {
        "id": "teYHOeUeY6j8"
      }
    },
    {
      "cell_type": "code",
      "source": [
        "save_location = \"./models\"\n",
        "if not os.path.exists(save_location):\n",
        "    os.makedirs(save_location)\n",
        "model.save_pretrained(save_location)\n",
        "tokenizer.save_pretrained(save_location)"
      ],
      "metadata": {
        "colab": {
          "base_uri": "https://localhost:8080/"
        },
        "id": "v5OJ4HGFFkOf",
        "outputId": "b2ef20f1-785a-43ee-db31-7ce758424012"
      },
      "execution_count": 29,
      "outputs": [
        {
          "output_type": "execute_result",
          "data": {
            "text/plain": [
              "('./models/tokenizer_config.json',\n",
              " './models/special_tokens_map.json',\n",
              " './models/vocab.json',\n",
              " './models/merges.txt',\n",
              " './models/added_tokens.json')"
            ]
          },
          "metadata": {},
          "execution_count": 29
        }
      ]
    },
    {
      "cell_type": "markdown",
      "source": [
        "And then all that's left is testing it out!"
      ],
      "metadata": {
        "id": "zKWXLNdDY9-O"
      }
    },
    {
      "cell_type": "code",
      "source": [
        "text = \"I wrote a poem for him\"\n",
        "input_ids = tokenizer.encode(text, return_tensors='tf')\n",
        "\n",
        "beam_output = model.generate(\n",
        "    input_ids,\n",
        "    max_length=80,\n",
        "    num_beams=5,\n",
        "    temperature=0.7,\n",
        "    no_repeat_ngram_size=2,\n",
        "    num_return_sequences=5\n",
        ")\n",
        "\n",
        "print(tokenizer.decode(beam_output[0], skip_special_tokens=True))"
      ],
      "metadata": {
        "colab": {
          "base_uri": "https://localhost:8080/"
        },
        "id": "xTPRtjoNFmnQ",
        "outputId": "6406edce-242b-4972-eb15-2dfa46507753"
      },
      "execution_count": 35,
      "outputs": [
        {
          "output_type": "stream",
          "name": "stderr",
          "text": [
            "The attention mask and the pad token id were not set. As a consequence, you may observe unexpected behavior. Please pass your input's `attention_mask` to obtain reliable results.\n",
            "Setting `pad_token_id` to `eos_token_id`:50256 for open-end generation.\n"
          ]
        },
        {
          "output_type": "stream",
          "name": "stdout",
          "text": [
            "I wrote a poem for him.\n",
            "\n",
            "so, as the one, and doth will more;\n",
            "the earth, that in her eye,\n",
            "that all the boar they have still from the world’d\n",
            "and all-d to make thee of her heart were:\n",
            "in on thee, yet not for their sight, where they are all to her head\n",
            "her lips;\n"
          ]
        }
      ]
    },
    {
      "cell_type": "markdown",
      "source": [
        "The poem doesn't make sense, but it is still better than it was at 10 epochs (for obvious reasons). I also increased the max_length because at 50 it kept cutting off in the middle of the poem - it still does that at 80, but I think it's somewhat better."
      ],
      "metadata": {
        "id": "QRkurZTGZB0p"
      }
    }
  ]
}